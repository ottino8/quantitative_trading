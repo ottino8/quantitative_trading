##https://www.quantstart.com/articles/Serial-Correlation-in-Time-Series-Analysis/
set.seed(1)
x <- seq(1,100) + 20.0*rnorm(1:100)
set.seed(2)
y <- seq(1,100) + 20.0*rnorm(1:100)
plot(x,y)
